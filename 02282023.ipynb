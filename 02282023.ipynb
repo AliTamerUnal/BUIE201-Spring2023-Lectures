{
 "cells": [
  {
   "attachments": {},
   "cell_type": "markdown",
   "metadata": {},
   "source": [
    "Write a function to find out if an integer value exists in a given list of integers.\n",
    "\n",
    "The function is expected to return the index of the integer in the array if it exists. Otherwise the function should return value -1;  "
   ]
  },
  {
   "cell_type": "code",
   "execution_count": 1,
   "metadata": {},
   "outputs": [],
   "source": [
    "def search_iterative1(arr, x):\n",
    "    index = 0\n",
    "    for y in arr:\n",
    "        if y == x:\n",
    "            return index\n",
    "        index += 1\n",
    "    return -1;"
   ]
  },
  {
   "cell_type": "code",
   "execution_count": 4,
   "metadata": {},
   "outputs": [
    {
     "name": "stdout",
     "output_type": "stream",
     "text": [
      "-1\n"
     ]
    }
   ],
   "source": [
    "print (search_iterative1([2, 6, 4], 7))"
   ]
  },
  {
   "attachments": {},
   "cell_type": "markdown",
   "metadata": {},
   "source": [
    "1. Study functions in binarysearch.py\n",
    "2. Learn recursion\n",
    "3. Discuss pros and cons of all the possible implementations."
   ]
  }
 ],
 "metadata": {
  "kernelspec": {
   "display_name": "base",
   "language": "python",
   "name": "python3"
  },
  "language_info": {
   "codemirror_mode": {
    "name": "ipython",
    "version": 3
   },
   "file_extension": ".py",
   "mimetype": "text/x-python",
   "name": "python",
   "nbconvert_exporter": "python",
   "pygments_lexer": "ipython3",
   "version": "3.7.4"
  },
  "orig_nbformat": 4,
  "vscode": {
   "interpreter": {
    "hash": "616ba5cc4270d027631741c9439bc5b0d39a75061c5b6aafc3521b04b6fd7110"
   }
  }
 },
 "nbformat": 4,
 "nbformat_minor": 2
}
