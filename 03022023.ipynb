{
 "cells": [
  {
   "cell_type": "markdown",
   "metadata": {},
   "source": [
    "1. Strings are immutable\n",
    "2. Lists are mutable\n",
    "3. Read chapters 3, 4, 5\n"
   ]
  },
  {
   "attachments": {},
   "cell_type": "markdown",
   "metadata": {},
   "source": [
    "# Function parameters\n",
    "\n",
    "1. Default Argument Values (Important warning: The default value is evaluated only once. This makes a difference when the default is a mutable object such as a list, dictionary, or instances of most classes.)\n",
    "2. Keyword Arguments\n",
    "3. def f(pos1, pos2, /, pos_or_kwd, *, kwd1, kwd2):\n",
    "      -----------    ----------     ----------\n",
    "        |             |                  |\n",
    "        |        Positional or keyword   |\n",
    "        |                                - Keyword only\n",
    "         -- Positional only\n",
    "\n",
    "4. Function Annotations (def f(x: str, y: str = 'eggs') -> str:)"
   ]
  },
  {
   "cell_type": "code",
   "execution_count": null,
   "metadata": {
    "vscode": {
     "languageId": "plaintext"
    }
   },
   "outputs": [],
   "source": [
    "def cheeseshop(kind, *arguments, **keywords):\n",
    "    print(kind)\n",
    "    for arg in arguments:\n",
    "        print(arg)\n",
    "    for kw in keywords:\n",
    "        print(kw, \":\", keywords[kw])\n",
    "\n",
    "cheeseshop(\"Limburger\", \"x\",\n",
    "           \"y\",\n",
    "           shopkeeper=\"a\",\n",
    "           client=\"b\",\n",
    "           sketch=\"c\")"
   ]
  },
  {
   "attachments": {},
   "cell_type": "markdown",
   "metadata": {},
   "source": [
    "1. Tuples\n",
    "2. Sets\n",
    "2. Dictionaries"
   ]
  }
 ],
 "metadata": {
  "language_info": {
   "name": "python"
  },
  "orig_nbformat": 4
 },
 "nbformat": 4,
 "nbformat_minor": 2
}
