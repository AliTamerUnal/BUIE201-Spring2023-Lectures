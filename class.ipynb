{
 "cells": [
  {
   "attachments": {},
   "cell_type": "markdown",
   "metadata": {},
   "source": [
    "## system\n",
    "An entity which performs a function given an input (produce outputs)\n",
    "bus\n",
    "customer\n",
    "iett\n",
    "busstop\n",
    "\n",
    "## object\n",
    "- a tangible entity\n",
    "- objects exist\n",
    "\n",
    "1. attributes: weight, age, color of hair\n",
    "2. values assigned to attributes\n",
    "3. functions: things that the object is expected to do. sleep, walk, breath\n",
    "\n",
    "obj1 is a human object.\n",
    "at time t\n",
    "obj1.weight -> 10kg\n",
    "obj1.age -> 6\n",
    "obj1.a-ttn -> value\n",
    "\n",
    "at t + 10\n",
    "obj1.weight -> 12kg\n",
    "obj1.age -> 6\n",
    "obj1.a-ttn -> value\n",
    "\n",
    "the set of values assigned to the attributes of an object at time t is called the state of that object at time t.\n",
    "\n",
    "functions may change the state of an object\n",
    "\n",
    "== state of a system at time t is the collection of states of its objects at time t\n",
    "\n",
    "## class\n",
    "- is a concept / idea\n",
    "\n",
    "A group of objects with which share a subset of similar attributes and functions = > class\n",
    "1. a set of attribuıtes\n",
    "2. a set of functions\n",
    "\n",
    "an object is an instance of a class if it has the attributes and functions defined by the class\n",
    "\n",
    "\n"
   ]
  }
 ],
 "metadata": {
  "language_info": {
   "name": "python"
  },
  "orig_nbformat": 4
 },
 "nbformat": 4,
 "nbformat_minor": 2
}
